{
 "cells": [
  {
   "cell_type": "code",
   "execution_count": 1,
   "id": "5f1554fb-2f66-4f8e-a388-f72e158c377e",
   "metadata": {},
   "outputs": [],
   "source": [
    "### Talk about Nimpy Functionality.."
   ]
  },
  {
   "cell_type": "code",
   "execution_count": 2,
   "id": "3db54b10-3613-451b-b2d4-b7770237ef8a",
   "metadata": {},
   "outputs": [],
   "source": [
    "import numpy as np"
   ]
  },
  {
   "cell_type": "code",
   "execution_count": 5,
   "id": "d0858a27-9466-49c0-ae99-74d3956cedf6",
   "metadata": {},
   "outputs": [
    {
     "data": {
      "text/plain": [
       "[0, 1, 2, 3, 4]"
      ]
     },
     "execution_count": 5,
     "metadata": {},
     "output_type": "execute_result"
    }
   ],
   "source": [
    "list(range(5))    ### if you put the list inside a range it produce a data which is 0 to 5.."
   ]
  },
  {
   "cell_type": "code",
   "execution_count": 6,
   "id": "83b67d6e-d030-4e63-b107-71b2e391371d",
   "metadata": {},
   "outputs": [
    {
     "data": {
      "text/plain": [
       "[0, 1, 2, 3, 4, 5, 6, 7, 8, 9]"
      ]
     },
     "execution_count": 6,
     "metadata": {},
     "output_type": "execute_result"
    }
   ],
   "source": [
    "list(range(0,10))"
   ]
  },
  {
   "cell_type": "code",
   "execution_count": 7,
   "id": "39adec92-719e-42f0-9066-279f76f1ad05",
   "metadata": {},
   "outputs": [],
   "source": [
    "### Rnage function contain only a integer..not folat value.."
   ]
  },
  {
   "cell_type": "code",
   "execution_count": 11,
   "id": "1c322e83-c5bf-47de-b796-d55ea9b2e01c",
   "metadata": {},
   "outputs": [
    {
     "data": {
      "text/plain": [
       "[0.4,\n",
       " 0.6000000000000001,\n",
       " 0.8000000000000002,\n",
       " 1.0000000000000002,\n",
       " 1.2000000000000002,\n",
       " 1.4000000000000004,\n",
       " 1.6000000000000005,\n",
       " 1.8000000000000003,\n",
       " 2.0000000000000004,\n",
       " 2.2000000000000006,\n",
       " 2.400000000000001,\n",
       " 2.6000000000000005,\n",
       " 2.8000000000000007,\n",
       " 3.000000000000001,\n",
       " 3.2000000000000006,\n",
       " 3.400000000000001,\n",
       " 3.600000000000001,\n",
       " 3.800000000000001,\n",
       " 4.000000000000002,\n",
       " 4.200000000000001,\n",
       " 4.400000000000002,\n",
       " 4.600000000000001,\n",
       " 4.800000000000002,\n",
       " 5.000000000000002,\n",
       " 5.200000000000002,\n",
       " 5.400000000000002,\n",
       " 5.600000000000002,\n",
       " 5.8000000000000025,\n",
       " 6.000000000000002,\n",
       " 6.200000000000002,\n",
       " 6.400000000000002,\n",
       " 6.600000000000002,\n",
       " 6.8000000000000025,\n",
       " 7.000000000000003,\n",
       " 7.200000000000003,\n",
       " 7.400000000000003,\n",
       " 7.600000000000003,\n",
       " 7.8000000000000025,\n",
       " 8.000000000000002,\n",
       " 8.200000000000003,\n",
       " 8.400000000000004,\n",
       " 8.600000000000003,\n",
       " 8.800000000000002,\n",
       " 9.000000000000004,\n",
       " 9.200000000000003,\n",
       " 9.400000000000004,\n",
       " 9.600000000000003,\n",
       " 9.800000000000004,\n",
       " 10.000000000000004,\n",
       " 10.200000000000003]"
      ]
     },
     "execution_count": 11,
     "metadata": {},
     "output_type": "execute_result"
    }
   ],
   "source": [
    "list(np.arange(.4 , 10.4, 0.2))  ## Arange is alternative range function it will be able to take even a floating point number based on this ....it will be generate a data sets.."
   ]
  },
  {
   "cell_type": "code",
   "execution_count": 14,
   "id": "a4ed8c0a-f8c0-45f7-b099-2159da74b969",
   "metadata": {},
   "outputs": [
    {
     "data": {
      "text/plain": [
       "array([1.        , 1.21052632, 1.42105263, 1.63157895, 1.84210526,\n",
       "       2.05263158, 2.26315789, 2.47368421, 2.68421053, 2.89473684,\n",
       "       3.10526316, 3.31578947, 3.52631579, 3.73684211, 3.94736842,\n",
       "       4.15789474, 4.36842105, 4.57894737, 4.78947368, 5.        ])"
      ]
     },
     "execution_count": 14,
     "metadata": {},
     "output_type": "execute_result"
    }
   ],
   "source": [
    "np.linspace(1,5 , 20) ## linspace is used to generate a data set whatever a number data set i would like to generate scale range or equal step size.."
   ]
  },
  {
   "cell_type": "code",
   "execution_count": 17,
   "id": "33497d28-117b-43e3-8d68-71b917449a24",
   "metadata": {},
   "outputs": [
    {
     "data": {
      "text/plain": [
       "array([ 2.        ,  2.72158   ,  3.70349885,  5.0396842 ,  6.85795186,\n",
       "        9.33223232, 12.69920842, 17.28095582, 23.51575188, 32.        ])"
      ]
     },
     "execution_count": 17,
     "metadata": {},
     "output_type": "execute_result"
    }
   ],
   "source": [
    "np.logspace(1,5 , 10 , base = 2)  ## it will be generate a data based on a logrithmic.."
   ]
  },
  {
   "cell_type": "code",
   "execution_count": 19,
   "id": "37642bc0-68a2-46f9-bdbb-0a0dbacf0f0d",
   "metadata": {},
   "outputs": [
    {
     "data": {
      "text/plain": [
       "array([0., 0., 0., 0., 0.])"
      ]
     },
     "execution_count": 19,
     "metadata": {},
     "output_type": "execute_result"
    }
   ],
   "source": [
    "np.zeros(5)"
   ]
  },
  {
   "cell_type": "code",
   "execution_count": 21,
   "id": "df0dd80b-6a57-457a-819b-b14d2af4c4fe",
   "metadata": {},
   "outputs": [
    {
     "data": {
      "text/plain": [
       "array([[0., 0., 0., 0.],\n",
       "       [0., 0., 0., 0.],\n",
       "       [0., 0., 0., 0.]])"
      ]
     },
     "execution_count": 21,
     "metadata": {},
     "output_type": "execute_result"
    }
   ],
   "source": [
    "np.zeros((3,4))  ## it will generate a data 3 rows and 4 column.."
   ]
  },
  {
   "cell_type": "code",
   "execution_count": 22,
   "id": "26c2fa97-3d97-400a-9774-9aa2836b14c2",
   "metadata": {},
   "outputs": [
    {
     "data": {
      "text/plain": [
       "array([[[0., 0.],\n",
       "        [0., 0.],\n",
       "        [0., 0.],\n",
       "        [0., 0.]],\n",
       "\n",
       "       [[0., 0.],\n",
       "        [0., 0.],\n",
       "        [0., 0.],\n",
       "        [0., 0.]],\n",
       "\n",
       "       [[0., 0.],\n",
       "        [0., 0.],\n",
       "        [0., 0.],\n",
       "        [0., 0.]]])"
      ]
     },
     "execution_count": 22,
     "metadata": {},
     "output_type": "execute_result"
    }
   ],
   "source": [
    "np.zeros((3,4,2))"
   ]
  },
  {
   "cell_type": "code",
   "execution_count": 23,
   "id": "13b8d7e6-8072-44c1-ade2-5baae745402f",
   "metadata": {},
   "outputs": [
    {
     "data": {
      "text/plain": [
       "array([[[[0., 0., 0.],\n",
       "         [0., 0., 0.]],\n",
       "\n",
       "        [[0., 0., 0.],\n",
       "         [0., 0., 0.]],\n",
       "\n",
       "        [[0., 0., 0.],\n",
       "         [0., 0., 0.]],\n",
       "\n",
       "        [[0., 0., 0.],\n",
       "         [0., 0., 0.]]],\n",
       "\n",
       "\n",
       "       [[[0., 0., 0.],\n",
       "         [0., 0., 0.]],\n",
       "\n",
       "        [[0., 0., 0.],\n",
       "         [0., 0., 0.]],\n",
       "\n",
       "        [[0., 0., 0.],\n",
       "         [0., 0., 0.]],\n",
       "\n",
       "        [[0., 0., 0.],\n",
       "         [0., 0., 0.]]],\n",
       "\n",
       "\n",
       "       [[[0., 0., 0.],\n",
       "         [0., 0., 0.]],\n",
       "\n",
       "        [[0., 0., 0.],\n",
       "         [0., 0., 0.]],\n",
       "\n",
       "        [[0., 0., 0.],\n",
       "         [0., 0., 0.]],\n",
       "\n",
       "        [[0., 0., 0.],\n",
       "         [0., 0., 0.]]]])"
      ]
     },
     "execution_count": 23,
     "metadata": {},
     "output_type": "execute_result"
    }
   ],
   "source": [
    "np.zeros((3,4,2,3))"
   ]
  },
  {
   "cell_type": "code",
   "execution_count": 24,
   "id": "72053596-a5b5-4aff-b2a9-3ee4c5fcf8a8",
   "metadata": {},
   "outputs": [
    {
     "data": {
      "text/plain": [
       "array([1., 1., 1., 1., 1.])"
      ]
     },
     "execution_count": 24,
     "metadata": {},
     "output_type": "execute_result"
    }
   ],
   "source": [
    "np.ones(5)"
   ]
  },
  {
   "cell_type": "code",
   "execution_count": 26,
   "id": "3f9b4a7b-fc56-4fc1-9383-cef62bef3565",
   "metadata": {},
   "outputs": [],
   "source": [
    "arr = np.ones((3,4))"
   ]
  },
  {
   "cell_type": "code",
   "execution_count": 27,
   "id": "a186d4b3-dee9-4fcc-af14-b0ceb76d4b93",
   "metadata": {},
   "outputs": [
    {
     "data": {
      "text/plain": [
       "array([[1., 1., 1., 1.],\n",
       "       [1., 1., 1., 1.],\n",
       "       [1., 1., 1., 1.]])"
      ]
     },
     "execution_count": 27,
     "metadata": {},
     "output_type": "execute_result"
    }
   ],
   "source": [
    "arr"
   ]
  },
  {
   "cell_type": "code",
   "execution_count": 29,
   "id": "3c985300-4f6e-43a0-9057-d8ccbdbab9b9",
   "metadata": {},
   "outputs": [
    {
     "data": {
      "text/plain": [
       "array([[6., 6., 6., 6.],\n",
       "       [6., 6., 6., 6.],\n",
       "       [6., 6., 6., 6.]])"
      ]
     },
     "execution_count": 29,
     "metadata": {},
     "output_type": "execute_result"
    }
   ],
   "source": [
    "arr+5 ## it will be able to add each element "
   ]
  },
  {
   "cell_type": "code",
   "execution_count": 30,
   "id": "952004eb-128e-4e5b-8342-e0bef88296fa",
   "metadata": {},
   "outputs": [
    {
     "data": {
      "text/plain": [
       "array([[4., 4., 4., 4.],\n",
       "       [4., 4., 4., 4.],\n",
       "       [4., 4., 4., 4.]])"
      ]
     },
     "execution_count": 30,
     "metadata": {},
     "output_type": "execute_result"
    }
   ],
   "source": [
    "arr*4"
   ]
  },
  {
   "cell_type": "code",
   "execution_count": 31,
   "id": "e9c3e1e8-531e-43b6-a482-9d0e881e50e2",
   "metadata": {},
   "outputs": [
    {
     "data": {
      "text/plain": [
       "array([[4., 4., 4., 4.],\n",
       "       [4., 4., 4., 4.],\n",
       "       [4., 4., 4., 4.]])"
      ]
     },
     "execution_count": 31,
     "metadata": {},
     "output_type": "execute_result"
    }
   ],
   "source": [
    "np.empty((3,4))"
   ]
  },
  {
   "cell_type": "code",
   "execution_count": 33,
   "id": "a691b5d9-f0f5-4c86-b371-04549dc6d519",
   "metadata": {},
   "outputs": [],
   "source": [
    "arr1 = np.eye(5)"
   ]
  },
  {
   "cell_type": "code",
   "execution_count": 34,
   "id": "5129bc49-39ee-4a03-8a9c-7783ca501300",
   "metadata": {},
   "outputs": [
    {
     "data": {
      "text/plain": [
       "array([[1., 0., 0., 0., 0.],\n",
       "       [0., 1., 0., 0., 0.],\n",
       "       [0., 0., 1., 0., 0.],\n",
       "       [0., 0., 0., 1., 0.],\n",
       "       [0., 0., 0., 0., 1.]])"
      ]
     },
     "execution_count": 34,
     "metadata": {},
     "output_type": "execute_result"
    }
   ],
   "source": [
    "arr1"
   ]
  },
  {
   "cell_type": "code",
   "execution_count": 35,
   "id": "3386de7a-f0fe-4c03-9409-c2e5f42e9377",
   "metadata": {},
   "outputs": [],
   "source": [
    "import pandas as pd"
   ]
  },
  {
   "cell_type": "code",
   "execution_count": 37,
   "id": "0a67751c-271d-4355-8a55-e4c0de5017a7",
   "metadata": {},
   "outputs": [
    {
     "data": {
      "text/html": [
       "<div>\n",
       "<style scoped>\n",
       "    .dataframe tbody tr th:only-of-type {\n",
       "        vertical-align: middle;\n",
       "    }\n",
       "\n",
       "    .dataframe tbody tr th {\n",
       "        vertical-align: top;\n",
       "    }\n",
       "\n",
       "    .dataframe thead th {\n",
       "        text-align: right;\n",
       "    }\n",
       "</style>\n",
       "<table border=\"1\" class=\"dataframe\">\n",
       "  <thead>\n",
       "    <tr style=\"text-align: right;\">\n",
       "      <th></th>\n",
       "      <th>0</th>\n",
       "      <th>1</th>\n",
       "      <th>2</th>\n",
       "      <th>3</th>\n",
       "      <th>4</th>\n",
       "    </tr>\n",
       "  </thead>\n",
       "  <tbody>\n",
       "    <tr>\n",
       "      <th>0</th>\n",
       "      <td>1.0</td>\n",
       "      <td>0.0</td>\n",
       "      <td>0.0</td>\n",
       "      <td>0.0</td>\n",
       "      <td>0.0</td>\n",
       "    </tr>\n",
       "    <tr>\n",
       "      <th>1</th>\n",
       "      <td>0.0</td>\n",
       "      <td>1.0</td>\n",
       "      <td>0.0</td>\n",
       "      <td>0.0</td>\n",
       "      <td>0.0</td>\n",
       "    </tr>\n",
       "    <tr>\n",
       "      <th>2</th>\n",
       "      <td>0.0</td>\n",
       "      <td>0.0</td>\n",
       "      <td>1.0</td>\n",
       "      <td>0.0</td>\n",
       "      <td>0.0</td>\n",
       "    </tr>\n",
       "    <tr>\n",
       "      <th>3</th>\n",
       "      <td>0.0</td>\n",
       "      <td>0.0</td>\n",
       "      <td>0.0</td>\n",
       "      <td>1.0</td>\n",
       "      <td>0.0</td>\n",
       "    </tr>\n",
       "    <tr>\n",
       "      <th>4</th>\n",
       "      <td>0.0</td>\n",
       "      <td>0.0</td>\n",
       "      <td>0.0</td>\n",
       "      <td>0.0</td>\n",
       "      <td>1.0</td>\n",
       "    </tr>\n",
       "  </tbody>\n",
       "</table>\n",
       "</div>"
      ],
      "text/plain": [
       "     0    1    2    3    4\n",
       "0  1.0  0.0  0.0  0.0  0.0\n",
       "1  0.0  1.0  0.0  0.0  0.0\n",
       "2  0.0  0.0  1.0  0.0  0.0\n",
       "3  0.0  0.0  0.0  1.0  0.0\n",
       "4  0.0  0.0  0.0  0.0  1.0"
      ]
     },
     "execution_count": 37,
     "metadata": {},
     "output_type": "execute_result"
    }
   ],
   "source": [
    "pd.DataFrame(arr1)  ## using this it will be able to covert all arry in dataframe.."
   ]
  },
  {
   "cell_type": "code",
   "execution_count": 38,
   "id": "d5b8696f-8305-491c-8f06-0df4a1e7835b",
   "metadata": {},
   "outputs": [
    {
     "data": {
      "text/plain": [
       "array([[0.80887178, 0.17254249, 0.40399473],\n",
       "       [0.78732796, 0.656767  , 0.01988147]])"
      ]
     },
     "execution_count": 38,
     "metadata": {},
     "output_type": "execute_result"
    }
   ],
   "source": [
    "np.random.rand(2,3)"
   ]
  },
  {
   "cell_type": "code",
   "execution_count": 39,
   "id": "d96c6532-bcd1-4db3-b546-d05c4c6ffc94",
   "metadata": {},
   "outputs": [
    {
     "data": {
      "text/plain": [
       "array([[-0.30766507, -0.01281871, -0.57869834],\n",
       "       [-1.46685789,  1.80537973, -0.23841382]])"
      ]
     },
     "execution_count": 39,
     "metadata": {},
     "output_type": "execute_result"
    }
   ],
   "source": [
    "np.random.randn(2,3)"
   ]
  },
  {
   "cell_type": "code",
   "execution_count": 40,
   "id": "d82174c7-df99-458e-939d-06f13f0c5342",
   "metadata": {},
   "outputs": [],
   "source": [
    "## Difference between rand and randn..\n",
    "## Rand = this is give you dataset where its average or mean can be anything or standard deviation can be anything ..\n",
    "## Randn = On a normal standard deviation it will be going to generate a data and standard npraml destribution simply means that mean equal to zero...and standard deviation equal to one.."
   ]
  },
  {
   "cell_type": "code",
   "execution_count": 42,
   "id": "9d8cb42c-09de-4b49-bc70-ad27b2ebf026",
   "metadata": {},
   "outputs": [],
   "source": [
    "arr2 = np.random.randint(1,5 , (3,4))"
   ]
  },
  {
   "cell_type": "code",
   "execution_count": 43,
   "id": "3e046507-3d1b-4183-a4b1-a33db842772c",
   "metadata": {},
   "outputs": [
    {
     "data": {
      "text/plain": [
       "array([[1, 3, 4, 2],\n",
       "       [3, 3, 1, 2],\n",
       "       [4, 2, 4, 2]])"
      ]
     },
     "execution_count": 43,
     "metadata": {},
     "output_type": "execute_result"
    }
   ],
   "source": [
    "arr2"
   ]
  },
  {
   "cell_type": "code",
   "execution_count": 44,
   "id": "a35138e2-c214-430e-a752-c856fbce3415",
   "metadata": {},
   "outputs": [
    {
     "data": {
      "text/plain": [
       "12"
      ]
     },
     "execution_count": 44,
     "metadata": {},
     "output_type": "execute_result"
    }
   ],
   "source": [
    "arr2.size"
   ]
  },
  {
   "cell_type": "code",
   "execution_count": 45,
   "id": "7c377e52-690d-43a5-945a-e848be66f070",
   "metadata": {},
   "outputs": [
    {
     "data": {
      "text/plain": [
       "(3, 4)"
      ]
     },
     "execution_count": 45,
     "metadata": {},
     "output_type": "execute_result"
    }
   ],
   "source": [
    "arr2.shape"
   ]
  },
  {
   "cell_type": "code",
   "execution_count": 46,
   "id": "7af8662c-0e45-44f9-810d-917a418c8eaa",
   "metadata": {},
   "outputs": [
    {
     "data": {
      "text/plain": [
       "array([[1, 3],\n",
       "       [4, 2],\n",
       "       [3, 3],\n",
       "       [1, 2],\n",
       "       [4, 2],\n",
       "       [4, 2]])"
      ]
     },
     "execution_count": 46,
     "metadata": {},
     "output_type": "execute_result"
    }
   ],
   "source": [
    "## How to change a shape \n",
    "arr2.reshape(6,2)"
   ]
  },
  {
   "cell_type": "code",
   "execution_count": 49,
   "id": "df55c9dc-eb0b-439a-b821-20a83f5eea84",
   "metadata": {},
   "outputs": [
    {
     "data": {
      "text/plain": [
       "array([[1, 3, 4, 2, 3, 3],\n",
       "       [1, 2, 4, 2, 4, 2]])"
      ]
     },
     "execution_count": 49,
     "metadata": {},
     "output_type": "execute_result"
    }
   ],
   "source": [
    "arr2.reshape(2,6)"
   ]
  },
  {
   "cell_type": "code",
   "execution_count": 50,
   "id": "e786de2b-61e6-4e1f-b005-1e259712ba11",
   "metadata": {},
   "outputs": [
    {
     "data": {
      "text/plain": [
       "array([[1, 3, 4],\n",
       "       [2, 3, 3],\n",
       "       [1, 2, 4],\n",
       "       [2, 4, 2]])"
      ]
     },
     "execution_count": 50,
     "metadata": {},
     "output_type": "execute_result"
    }
   ],
   "source": [
    "arr2.reshape(4,3)"
   ]
  },
  {
   "cell_type": "code",
   "execution_count": 51,
   "id": "426cec2d-c4df-411e-9cd1-7279b39a84de",
   "metadata": {},
   "outputs": [
    {
     "data": {
      "text/plain": [
       "array([[1, 3, 4],\n",
       "       [2, 3, 3],\n",
       "       [1, 2, 4],\n",
       "       [2, 4, 2]])"
      ]
     },
     "execution_count": 51,
     "metadata": {},
     "output_type": "execute_result"
    }
   ],
   "source": [
    "arr2.reshape(4,-1)"
   ]
  },
  {
   "cell_type": "code",
   "execution_count": 52,
   "id": "98b29084-90f1-4752-9e08-95127d1c6ac4",
   "metadata": {},
   "outputs": [
    {
     "data": {
      "text/plain": [
       "array([[1, 3, 4],\n",
       "       [2, 3, 3],\n",
       "       [1, 2, 4],\n",
       "       [2, 4, 2]])"
      ]
     },
     "execution_count": 52,
     "metadata": {},
     "output_type": "execute_result"
    }
   ],
   "source": [
    "arr2.reshape(4,-133564758)"
   ]
  },
  {
   "cell_type": "code",
   "execution_count": 53,
   "id": "95ba389c-f2bb-4a49-8655-5fba4f7b88b1",
   "metadata": {},
   "outputs": [
    {
     "data": {
      "text/plain": [
       "array([[[1, 3, 4],\n",
       "        [2, 3, 3]],\n",
       "\n",
       "       [[1, 2, 4],\n",
       "        [2, 4, 2]]])"
      ]
     },
     "execution_count": 53,
     "metadata": {},
     "output_type": "execute_result"
    }
   ],
   "source": [
    "arr2.reshape(2,2,3)"
   ]
  },
  {
   "cell_type": "code",
   "execution_count": 54,
   "id": "365e7bf9-3bdf-4edb-97c1-3e7d8eee4e06",
   "metadata": {},
   "outputs": [],
   "source": [
    "arr1 = np.random.randint(1,10 , (5,6))"
   ]
  },
  {
   "cell_type": "code",
   "execution_count": 55,
   "id": "4f4d9163-c027-4cd3-acef-8411f439d8ae",
   "metadata": {},
   "outputs": [
    {
     "data": {
      "text/plain": [
       "array([[7, 9, 4, 5, 8, 9],\n",
       "       [7, 3, 6, 9, 8, 7],\n",
       "       [6, 1, 9, 2, 9, 5],\n",
       "       [4, 3, 4, 2, 2, 6],\n",
       "       [8, 6, 7, 6, 9, 6]])"
      ]
     },
     "execution_count": 55,
     "metadata": {},
     "output_type": "execute_result"
    }
   ],
   "source": [
    "arr1"
   ]
  },
  {
   "cell_type": "code",
   "execution_count": 56,
   "id": "14d7fd7d-ac6f-48ca-939e-f6b1447b5b64",
   "metadata": {},
   "outputs": [
    {
     "data": {
      "text/plain": [
       "array([[False,  True, False, False, False,  True],\n",
       "       [False, False, False,  True, False, False],\n",
       "       [False, False,  True, False,  True, False],\n",
       "       [False, False, False, False, False, False],\n",
       "       [False, False, False, False,  True, False]])"
      ]
     },
     "execution_count": 56,
     "metadata": {},
     "output_type": "execute_result"
    }
   ],
   "source": [
    "## filter the which is greater than 8\n",
    "arr1 > 8"
   ]
  },
  {
   "cell_type": "code",
   "execution_count": 57,
   "id": "5fa26a03-422d-4b1f-a8d8-1d71161cb523",
   "metadata": {},
   "outputs": [
    {
     "data": {
      "text/plain": [
       "array([9, 9, 9, 9, 9, 9])"
      ]
     },
     "execution_count": 57,
     "metadata": {},
     "output_type": "execute_result"
    }
   ],
   "source": [
    "arr1[arr1 >8]"
   ]
  },
  {
   "cell_type": "code",
   "execution_count": 58,
   "id": "3f11533e-3ab3-479b-b7d4-c0d002b9c475",
   "metadata": {},
   "outputs": [
    {
     "data": {
      "text/plain": [
       "array([[7, 9, 4, 5, 8, 9],\n",
       "       [7, 3, 6, 9, 8, 7],\n",
       "       [6, 1, 9, 2, 9, 5],\n",
       "       [4, 3, 4, 2, 2, 6],\n",
       "       [8, 6, 7, 6, 9, 6]])"
      ]
     },
     "execution_count": 58,
     "metadata": {},
     "output_type": "execute_result"
    }
   ],
   "source": [
    "arr1"
   ]
  },
  {
   "cell_type": "code",
   "execution_count": 59,
   "id": "575587f3-77ad-4625-a5c1-2c56aebaa555",
   "metadata": {},
   "outputs": [
    {
     "data": {
      "text/plain": [
       "array([7, 9])"
      ]
     },
     "execution_count": 59,
     "metadata": {},
     "output_type": "execute_result"
    }
   ],
   "source": [
    "## how will be able to extract the data set in rows and column..\n",
    "arr1[0,[0,1]]"
   ]
  },
  {
   "cell_type": "code",
   "execution_count": 60,
   "id": "6152c103-6f88-499e-906e-a2b754961e1b",
   "metadata": {},
   "outputs": [
    {
     "data": {
      "text/plain": [
       "array([[9, 2],\n",
       "       [4, 2]])"
      ]
     },
     "execution_count": 60,
     "metadata": {},
     "output_type": "execute_result"
    }
   ],
   "source": [
    "arr1[2:4 , [2,3]]"
   ]
  },
  {
   "cell_type": "code",
   "execution_count": 63,
   "id": "c798c8e5-a46a-4d59-acce-845878cf2290",
   "metadata": {},
   "outputs": [],
   "source": [
    "arr1 = np.random.randint(1,3 , (3,3))\n",
    "arr2 = np.random.randint(1,3 , (3,3))"
   ]
  },
  {
   "cell_type": "code",
   "execution_count": 64,
   "id": "8a70c0cd-c736-4080-9d7e-c33951080c7c",
   "metadata": {},
   "outputs": [
    {
     "data": {
      "text/plain": [
       "array([[2, 2, 1],\n",
       "       [1, 1, 1],\n",
       "       [2, 1, 1]])"
      ]
     },
     "execution_count": 64,
     "metadata": {},
     "output_type": "execute_result"
    }
   ],
   "source": [
    "arr1"
   ]
  },
  {
   "cell_type": "code",
   "execution_count": 65,
   "id": "c022c08f-6b60-46d6-81c0-ee68b71237ec",
   "metadata": {},
   "outputs": [
    {
     "data": {
      "text/plain": [
       "array([[1, 1, 2],\n",
       "       [2, 1, 1],\n",
       "       [1, 1, 2]])"
      ]
     },
     "execution_count": 65,
     "metadata": {},
     "output_type": "execute_result"
    }
   ],
   "source": [
    "arr2"
   ]
  },
  {
   "cell_type": "code",
   "execution_count": 66,
   "id": "0e0d6627-a994-4944-879c-675ff787df94",
   "metadata": {},
   "outputs": [
    {
     "data": {
      "text/plain": [
       "array([[3, 3, 3],\n",
       "       [3, 2, 2],\n",
       "       [3, 2, 3]])"
      ]
     },
     "execution_count": 66,
     "metadata": {},
     "output_type": "execute_result"
    }
   ],
   "source": [
    "arr1+arr2"
   ]
  },
  {
   "cell_type": "code",
   "execution_count": 67,
   "id": "b3b757fd-1c81-4a5b-9873-c4699d3504ae",
   "metadata": {},
   "outputs": [
    {
     "data": {
      "text/plain": [
       "array([[ 1,  1, -1],\n",
       "       [-1,  0,  0],\n",
       "       [ 1,  0, -1]])"
      ]
     },
     "execution_count": 67,
     "metadata": {},
     "output_type": "execute_result"
    }
   ],
   "source": [
    "arr1-arr2"
   ]
  },
  {
   "cell_type": "code",
   "execution_count": 68,
   "id": "e4e79dd7-89e4-48ae-b8ab-7a55311bb280",
   "metadata": {},
   "outputs": [
    {
     "data": {
      "text/plain": [
       "array([[2, 2, 2],\n",
       "       [2, 1, 1],\n",
       "       [2, 1, 2]])"
      ]
     },
     "execution_count": 68,
     "metadata": {},
     "output_type": "execute_result"
    }
   ],
   "source": [
    "arr1*arr2"
   ]
  },
  {
   "cell_type": "code",
   "execution_count": 71,
   "id": "7e8ee3d0-abb5-4ef7-9e00-f572c4fc2fe3",
   "metadata": {},
   "outputs": [
    {
     "data": {
      "text/plain": [
       "array([[2, 2, 1],\n",
       "       [1, 1, 1],\n",
       "       [2, 1, 1]])"
      ]
     },
     "execution_count": 71,
     "metadata": {},
     "output_type": "execute_result"
    }
   ],
   "source": [
    "arr1    ## this is not a matrix wise multiplication ..it is index wise "
   ]
  },
  {
   "cell_type": "code",
   "execution_count": 72,
   "id": "41245853-ad9f-4bea-85a4-0f23d6d6b8b3",
   "metadata": {},
   "outputs": [
    {
     "data": {
      "text/plain": [
       "array([[1, 1, 2],\n",
       "       [2, 1, 1],\n",
       "       [1, 1, 2]])"
      ]
     },
     "execution_count": 72,
     "metadata": {},
     "output_type": "execute_result"
    }
   ],
   "source": [
    "arr2"
   ]
  },
  {
   "cell_type": "code",
   "execution_count": 73,
   "id": "de641a16-1f6f-4229-bf04-3c3732fe40e6",
   "metadata": {},
   "outputs": [
    {
     "data": {
      "text/plain": [
       "array([[7, 5, 8],\n",
       "       [4, 3, 5],\n",
       "       [5, 4, 7]])"
      ]
     },
     "execution_count": 73,
     "metadata": {},
     "output_type": "execute_result"
    }
   ],
   "source": [
    "## how to matrix multiplication\n",
    "arr1@arr2"
   ]
  },
  {
   "cell_type": "code",
   "execution_count": 74,
   "id": "0f5eff2f-b8f4-4b79-9fba-3ea41c33b3ac",
   "metadata": {},
   "outputs": [
    {
     "data": {
      "text/plain": [
       "array([[2. , 2. , 0.5],\n",
       "       [0.5, 1. , 1. ],\n",
       "       [2. , 1. , 0.5]])"
      ]
     },
     "execution_count": 74,
     "metadata": {},
     "output_type": "execute_result"
    }
   ],
   "source": [
    "arr1/arr2"
   ]
  },
  {
   "cell_type": "code",
   "execution_count": 75,
   "id": "31a6651f-b35e-4f21-9759-1605c5468754",
   "metadata": {},
   "outputs": [
    {
     "name": "stderr",
     "output_type": "stream",
     "text": [
      "/tmp/ipykernel_77/1510032488.py:1: RuntimeWarning: divide by zero encountered in divide\n",
      "  arr1/0\n"
     ]
    },
    {
     "data": {
      "text/plain": [
       "array([[inf, inf, inf],\n",
       "       [inf, inf, inf],\n",
       "       [inf, inf, inf]])"
      ]
     },
     "execution_count": 75,
     "metadata": {},
     "output_type": "execute_result"
    }
   ],
   "source": [
    "arr1/0"
   ]
  },
  {
   "cell_type": "code",
   "execution_count": 76,
   "id": "f9224685-b839-4b6f-9b02-434b45ac8c0d",
   "metadata": {},
   "outputs": [],
   "source": [
    "## Numpy - Broadcasting."
   ]
  },
  {
   "cell_type": "code",
   "execution_count": 77,
   "id": "5d462a09-b8e3-4a6b-b48c-2979403f6817",
   "metadata": {},
   "outputs": [],
   "source": [
    "arr = np.zeros((3,4))"
   ]
  },
  {
   "cell_type": "code",
   "execution_count": 78,
   "id": "536e9eaa-f59b-4b5e-aec7-90def5bc945d",
   "metadata": {},
   "outputs": [
    {
     "data": {
      "text/plain": [
       "array([[0., 0., 0., 0.],\n",
       "       [0., 0., 0., 0.],\n",
       "       [0., 0., 0., 0.]])"
      ]
     },
     "execution_count": 78,
     "metadata": {},
     "output_type": "execute_result"
    }
   ],
   "source": [
    "arr"
   ]
  },
  {
   "cell_type": "code",
   "execution_count": 79,
   "id": "98186bb6-4f55-4e47-a599-3ab09d7e6b05",
   "metadata": {},
   "outputs": [
    {
     "data": {
      "text/plain": [
       "array([[5., 5., 5., 5.],\n",
       "       [5., 5., 5., 5.],\n",
       "       [5., 5., 5., 5.]])"
      ]
     },
     "execution_count": 79,
     "metadata": {},
     "output_type": "execute_result"
    }
   ],
   "source": [
    "arr+5"
   ]
  },
  {
   "cell_type": "code",
   "execution_count": 80,
   "id": "3e4cd90f-5222-499d-bdd3-b0697d8c18cb",
   "metadata": {},
   "outputs": [],
   "source": [
    "a = np.array([1,2,3,4])"
   ]
  },
  {
   "cell_type": "code",
   "execution_count": 81,
   "id": "bace18a4-8387-4907-8ad5-2dfbc4027c7a",
   "metadata": {},
   "outputs": [
    {
     "data": {
      "text/plain": [
       "array([[1., 2., 3., 4.],\n",
       "       [1., 2., 3., 4.],\n",
       "       [1., 2., 3., 4.]])"
      ]
     },
     "execution_count": 81,
     "metadata": {},
     "output_type": "execute_result"
    }
   ],
   "source": [
    "arr+a"
   ]
  },
  {
   "cell_type": "code",
   "execution_count": 84,
   "id": "1815239b-66c0-4603-9c54-934c645c68ac",
   "metadata": {},
   "outputs": [],
   "source": [
    "## Create a array to perform a operation on row wise..\n",
    "b = np.array([[3,4,5]])"
   ]
  },
  {
   "cell_type": "code",
   "execution_count": 87,
   "id": "8b179391-cb05-4307-a01f-f010ec0f3dad",
   "metadata": {},
   "outputs": [],
   "source": [
    "arr1 = arr+b.T"
   ]
  },
  {
   "cell_type": "code",
   "execution_count": 88,
   "id": "10798aab-4496-4170-a9c7-49dbd847130e",
   "metadata": {},
   "outputs": [
    {
     "data": {
      "text/plain": [
       "array([[3],\n",
       "       [4],\n",
       "       [5]])"
      ]
     },
     "execution_count": 88,
     "metadata": {},
     "output_type": "execute_result"
    }
   ],
   "source": [
    "b.T"
   ]
  },
  {
   "cell_type": "code",
   "execution_count": 89,
   "id": "728174ec-8c3c-4a92-9e06-2ab55843c816",
   "metadata": {},
   "outputs": [
    {
     "data": {
      "text/plain": [
       "array([[3., 3., 3., 3.],\n",
       "       [4., 4., 4., 4.],\n",
       "       [5., 5., 5., 5.]])"
      ]
     },
     "execution_count": 89,
     "metadata": {},
     "output_type": "execute_result"
    }
   ],
   "source": [
    "arr1"
   ]
  },
  {
   "cell_type": "code",
   "execution_count": 90,
   "id": "318f32d7-8139-452b-a1f8-165478c5d6bf",
   "metadata": {},
   "outputs": [
    {
     "data": {
      "text/plain": [
       "array([[1.73205081, 1.73205081, 1.73205081, 1.73205081],\n",
       "       [2.        , 2.        , 2.        , 2.        ],\n",
       "       [2.23606798, 2.23606798, 2.23606798, 2.23606798]])"
      ]
     },
     "execution_count": 90,
     "metadata": {},
     "output_type": "execute_result"
    }
   ],
   "source": [
    "np.sqrt(arr1)"
   ]
  },
  {
   "cell_type": "code",
   "execution_count": 91,
   "id": "93a69b32-1b9a-42eb-9149-5e5f8efaa086",
   "metadata": {},
   "outputs": [
    {
     "data": {
      "text/plain": [
       "array([[0.47712125, 0.47712125, 0.47712125, 0.47712125],\n",
       "       [0.60205999, 0.60205999, 0.60205999, 0.60205999],\n",
       "       [0.69897   , 0.69897   , 0.69897   , 0.69897   ]])"
      ]
     },
     "execution_count": 91,
     "metadata": {},
     "output_type": "execute_result"
    }
   ],
   "source": [
    "np.log10(arr1)"
   ]
  },
  {
   "cell_type": "code",
   "execution_count": 92,
   "id": "41e68e85-c951-4bc4-848b-7bb81861aa61",
   "metadata": {},
   "outputs": [
    {
     "data": {
      "text/plain": [
       "array([[ 20.08553692,  20.08553692,  20.08553692,  20.08553692],\n",
       "       [ 54.59815003,  54.59815003,  54.59815003,  54.59815003],\n",
       "       [148.4131591 , 148.4131591 , 148.4131591 , 148.4131591 ]])"
      ]
     },
     "execution_count": 92,
     "metadata": {},
     "output_type": "execute_result"
    }
   ],
   "source": [
    "np.exp(arr1)"
   ]
  },
  {
   "cell_type": "code",
   "execution_count": 93,
   "id": "ddd90c1e-459d-41d8-8364-99b9ec711e7a",
   "metadata": {},
   "outputs": [
    {
     "data": {
      "text/plain": [
       "3.0"
      ]
     },
     "execution_count": 93,
     "metadata": {},
     "output_type": "execute_result"
    }
   ],
   "source": [
    "np.min(arr1)"
   ]
  },
  {
   "cell_type": "code",
   "execution_count": 94,
   "id": "de88a4ed-04c3-4679-b2c5-5e2c316fb43e",
   "metadata": {},
   "outputs": [
    {
     "data": {
      "text/plain": [
       "5.0"
      ]
     },
     "execution_count": 94,
     "metadata": {},
     "output_type": "execute_result"
    }
   ],
   "source": [
    "np.max(arr1)"
   ]
  },
  {
   "cell_type": "code",
   "execution_count": null,
   "id": "28b3d095-d0e4-42a5-b0ff-de5b77b7d056",
   "metadata": {},
   "outputs": [],
   "source": []
  }
 ],
 "metadata": {
  "kernelspec": {
   "display_name": "Python 3 (ipykernel)",
   "language": "python",
   "name": "python3"
  },
  "language_info": {
   "codemirror_mode": {
    "name": "ipython",
    "version": 3
   },
   "file_extension": ".py",
   "mimetype": "text/x-python",
   "name": "python",
   "nbconvert_exporter": "python",
   "pygments_lexer": "ipython3",
   "version": "3.10.8"
  }
 },
 "nbformat": 4,
 "nbformat_minor": 5
}
